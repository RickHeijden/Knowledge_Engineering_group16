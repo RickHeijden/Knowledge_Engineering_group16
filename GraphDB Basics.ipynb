{
 "cells": [
  {
   "cell_type": "code",
   "execution_count": 1,
   "id": "ab274358",
   "metadata": {},
   "outputs": [
    {
     "name": "stdout",
     "output_type": "stream",
     "text": [
      "Requirement already satisfied: rdflib in c:\\users\\20191810\\anaconda3\\lib\\site-packages (7.0.0)\n",
      "Requirement already satisfied: pyvis in c:\\users\\20191810\\anaconda3\\lib\\site-packages (0.3.1)\n",
      "Requirement already satisfied: pyparsing<4,>=2.1.0 in c:\\users\\20191810\\anaconda3\\lib\\site-packages (from rdflib) (3.0.9)\n",
      "Requirement already satisfied: isodate<0.7.0,>=0.6.0 in c:\\users\\20191810\\anaconda3\\lib\\site-packages (from rdflib) (0.6.1)\n",
      "Requirement already satisfied: networkx>=1.11 in c:\\users\\20191810\\anaconda3\\lib\\site-packages (from pyvis) (3.1)\n",
      "Requirement already satisfied: ipython>=5.3.0 in c:\\users\\20191810\\anaconda3\\lib\\site-packages (from pyvis) (8.4.0)\n",
      "Requirement already satisfied: jsonpickle>=1.4.1 in c:\\users\\20191810\\anaconda3\\lib\\site-packages (from pyvis) (3.0.1)\n",
      "Requirement already satisfied: jinja2>=2.9.6 in c:\\users\\20191810\\anaconda3\\lib\\site-packages (from pyvis) (3.1.2)\n",
      "Requirement already satisfied: colorama in c:\\users\\20191810\\anaconda3\\lib\\site-packages (from ipython>=5.3.0->pyvis) (0.4.6)\n",
      "Requirement already satisfied: stack-data in c:\\users\\20191810\\anaconda3\\lib\\site-packages (from ipython>=5.3.0->pyvis) (0.2.0)\n",
      "Requirement already satisfied: setuptools>=18.5 in c:\\users\\20191810\\anaconda3\\lib\\site-packages (from ipython>=5.3.0->pyvis) (66.0.0)\n",
      "Requirement already satisfied: backcall in c:\\users\\20191810\\anaconda3\\lib\\site-packages (from ipython>=5.3.0->pyvis) (0.2.0)\n",
      "Requirement already satisfied: decorator in c:\\users\\20191810\\anaconda3\\lib\\site-packages (from ipython>=5.3.0->pyvis) (5.1.1)\n",
      "Requirement already satisfied: matplotlib-inline in c:\\users\\20191810\\anaconda3\\lib\\site-packages (from ipython>=5.3.0->pyvis) (0.1.6)\n",
      "Requirement already satisfied: prompt-toolkit!=3.0.0,!=3.0.1,<3.1.0,>=2.0.0 in c:\\users\\20191810\\anaconda3\\lib\\site-packages (from ipython>=5.3.0->pyvis) (3.0.20)\n",
      "Requirement already satisfied: jedi>=0.16 in c:\\users\\20191810\\anaconda3\\lib\\site-packages (from ipython>=5.3.0->pyvis) (0.18.1)\n",
      "Requirement already satisfied: pygments>=2.4.0 in c:\\users\\20191810\\anaconda3\\lib\\site-packages (from ipython>=5.3.0->pyvis) (2.15.1)\n",
      "Requirement already satisfied: traitlets>=5 in c:\\users\\20191810\\anaconda3\\lib\\site-packages (from ipython>=5.3.0->pyvis) (5.1.1)\n",
      "Requirement already satisfied: pickleshare in c:\\users\\20191810\\anaconda3\\lib\\site-packages (from ipython>=5.3.0->pyvis) (0.7.5)\n",
      "Requirement already satisfied: six in c:\\users\\20191810\\anaconda3\\lib\\site-packages (from isodate<0.7.0,>=0.6.0->rdflib) (1.16.0)\n",
      "Requirement already satisfied: MarkupSafe>=2.0 in c:\\users\\20191810\\anaconda3\\lib\\site-packages (from jinja2>=2.9.6->pyvis) (2.1.3)\n",
      "Requirement already satisfied: parso<0.9.0,>=0.8.0 in c:\\users\\20191810\\anaconda3\\lib\\site-packages (from jedi>=0.16->ipython>=5.3.0->pyvis) (0.8.3)\n",
      "Requirement already satisfied: wcwidth in c:\\users\\20191810\\anaconda3\\lib\\site-packages (from prompt-toolkit!=3.0.0,!=3.0.1,<3.1.0,>=2.0.0->ipython>=5.3.0->pyvis) (0.2.5)\n",
      "Requirement already satisfied: pure-eval in c:\\users\\20191810\\anaconda3\\lib\\site-packages (from stack-data->ipython>=5.3.0->pyvis) (0.2.2)\n",
      "Requirement already satisfied: executing in c:\\users\\20191810\\anaconda3\\lib\\site-packages (from stack-data->ipython>=5.3.0->pyvis) (0.8.3)\n",
      "Requirement already satisfied: asttokens in c:\\users\\20191810\\anaconda3\\lib\\site-packages (from stack-data->ipython>=5.3.0->pyvis) (2.0.5)\n"
     ]
    }
   ],
   "source": [
    "!pip install rdflib pyvis"
   ]
  },
  {
   "cell_type": "code",
   "execution_count": 2,
   "id": "bed73fcc",
   "metadata": {},
   "outputs": [],
   "source": [
    "from rdflib import Graph, URIRef, Literal, Namespace\n",
    "from rdflib.namespace import RDF, FOAF\n",
    "\n",
    "# Create a new RDFLib graph\n",
    "g = Graph()\n",
    "\n",
    "# Define namespaces\n",
    "EX = Namespace(\"http://example.org/\")\n",
    "SCHEMA = Namespace(\"http://schema.org/\")\n",
    "\n",
    "# Add namespaces to the graph\n",
    "g.bind(\"ex\", EX)\n",
    "g.bind(\"schema\", SCHEMA)\n",
    "g.bind(\"foaf\", FOAF)"
   ]
  },
  {
   "cell_type": "code",
   "execution_count": 3,
   "id": "4524767c",
   "metadata": {},
   "outputs": [],
   "source": [
    "# Function to add a new book entry to the graph\n",
    "def add_book_entry(graph, isbn, title, author_name):\n",
    "    author_uri = URIRef(EX[author_name.replace(' ', '_')]) # Author url of J. K. Rowling is J._K._Rowling\n",
    "    print(author_uri)\n",
    "    \n",
    "    if not (author_uri, RDF.type, FOAF.Person) in graph:\n",
    "        graph.add((author_uri, RDF.type, FOAF.Person))\n",
    "        graph.add((author_uri, FOAF.name, Literal(author_name)))\n",
    "    \n",
    "    book_uri = URIRef(EX[isbn]) # Book url is the isbn\n",
    "    \n",
    "    graph.add((book_uri, RDF.type, SCHEMA.Book)) # Add book type\n",
    "    graph.add((book_uri, SCHEMA.name, Literal(title))) # Add name to book\n",
    "    graph.add((book_uri, SCHEMA.author, author_uri)) # Connect author to book\n",
    "    graph.add((book_uri, SCHEMA.identifier, Literal(isbn))) # Add isbn as identifier"
   ]
  },
  {
   "cell_type": "code",
   "execution_count": 4,
   "id": "59d03d50",
   "metadata": {},
   "outputs": [],
   "source": [
    "# Make sure key is one of RDF... or SCHEMA...\n",
    "def add_property_to_book(isbn, key, value):\n",
    "    book_uri = URIRef(EX[isbn]) # Book url is the isbn\n",
    "    \n",
    "    if not (book_uri, RDF.type, SCHEMA.Book) in graph:\n",
    "        raise ValueError('This isbn does not exist in graph')\n",
    "        \n",
    "    graph.add((book_uri, key, value))"
   ]
  },
  {
   "cell_type": "code",
   "execution_count": null,
   "id": "060a1148",
   "metadata": {},
   "outputs": [],
   "source": [
    "# Make sure key is one of RDF... or SCHEMA...\n",
    "def add_property_to_author(author, key, value):\n",
    "    author_uri = author\n",
    "    if type(author) == str:\n",
    "        author_uri = URIRef(EX[author_name.replace(' ', '_')])\n",
    "    \n",
    "    if not (author_uri, RDF.type, FOAF.Person) in graph:\n",
    "        raise ValueError('This author does not exist in graph')\n",
    "        \n",
    "    graph.add((author_uri, key, value))"
   ]
  },
  {
   "cell_type": "code",
   "execution_count": 5,
   "id": "052d8ec5",
   "metadata": {},
   "outputs": [
    {
     "name": "stdout",
     "output_type": "stream",
     "text": [
      "http://example.org/J.K._Rowling\n"
     ]
    }
   ],
   "source": [
    "add_book_entry(g, \"978-0439139595\", \"Harry Potter and the Goblet of Fire\", \"J.K. Rowling\")"
   ]
  },
  {
   "cell_type": "code",
   "execution_count": 6,
   "id": "2b76f3a8",
   "metadata": {},
   "outputs": [
    {
     "name": "stdout",
     "output_type": "stream",
     "text": [
      "Local cdn resources have problems on chrome/safari when used in jupyter-notebook. \n"
     ]
    }
   ],
   "source": [
    "from pyvis.network import Network\n",
    "import webbrowser\n",
    "\n",
    "# Jupyter notebook only\n",
    "def visualize_rdf_graph(graph):\n",
    "    net = Network(notebook=True)\n",
    "    \n",
    "    author_color = 'red'\n",
    "    book_color = 'green'\n",
    "    \n",
    "    for s, p, o in graph:\n",
    "        s_str = str(s)\n",
    "        o_str = str(o)\n",
    "        \n",
    "        # Determine the color based on the type of node\n",
    "        \n",
    "        # For subject\n",
    "        if (s, RDF.type, FOAF.Person) in graph:\n",
    "            net.add_node(s_str, label=s_str, title=s_str, color=author_color)\n",
    "        elif (s, RDF.type, SCHEMA.Book) in graph:\n",
    "            net.add_node(s_str, label=s_str, title=s_str, color=book_color)\n",
    "        else:\n",
    "            net.add_node(s_str, label=s_str, title=s_str)\n",
    "        \n",
    "        # For object\n",
    "        if (o, RDF.type, FOAF.Person) in graph:\n",
    "            net.add_node(o_str, label=o_str, title=o_str, color=author_color)\n",
    "        elif (o, RDF.type, SCHEMA.Book) in graph:\n",
    "            net.add_node(o_str, label=o_str, title=o_str, color=book_color)\n",
    "        else:\n",
    "            net.add_node(o_str, label=o_str, title=o_str)\n",
    "        \n",
    "        net.add_edge(s_str, o_str, title=str(p))\n",
    "    \n",
    "    # Show the network\n",
    "    net.show(\"rdf_graph.html\")\n",
    "    \n",
    "    # And open it in a new tab (again, Jupyter Notebook only)\n",
    "    webbrowser.open('rdf_graph.html')\n",
    "\n",
    "# Visualize the RDF graph\n",
    "visualize_rdf_graph(g)"
   ]
  },
  {
   "cell_type": "code",
   "execution_count": 7,
   "id": "8b250c25",
   "metadata": {},
   "outputs": [],
   "source": [
    "# Export for use in GraphDB\n",
    "with open(\"books.rdf\", \"w\") as f:\n",
    "    f.write(g.serialize(format=\"xml\"))"
   ]
  }
 ],
 "metadata": {
  "kernelspec": {
   "display_name": "Python 3 (ipykernel)",
   "language": "python",
   "name": "python3"
  },
  "language_info": {
   "codemirror_mode": {
    "name": "ipython",
    "version": 3
   },
   "file_extension": ".py",
   "mimetype": "text/x-python",
   "name": "python",
   "nbconvert_exporter": "python",
   "pygments_lexer": "ipython3",
   "version": "3.9.13"
  }
 },
 "nbformat": 4,
 "nbformat_minor": 5
}
